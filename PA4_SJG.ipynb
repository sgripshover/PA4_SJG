{
 "cells": [
  {
   "cell_type": "markdown",
   "id": "6fba18e4-00a0-4c07-9431-5d499d818671",
   "metadata": {},
   "source": [
    "# Programming Assignment 4\n",
    "---\n",
    "**Author:** Savannah Gripshover \n",
    "**Version:** 1.0  \n",
    "**Semester:** Spring 2024 \n",
    "\n",
    "This *notebook* contains my solution(s) to **Programming Assignment 4**"
   ]
  },
  {
   "cell_type": "markdown",
   "id": "5e55f597-2667-4a0a-b105-a1b8429a428a",
   "metadata": {},
   "source": [
    "### Problem 1 -- Swapping List Elements"
   ]
  },
  {
   "cell_type": "code",
   "execution_count": 3,
   "id": "cf1b165a-b0bf-4e1f-b64d-32025e338139",
   "metadata": {
    "tags": []
   },
   "outputs": [],
   "source": [
    "import random"
   ]
  },
  {
   "cell_type": "code",
   "execution_count": 29,
   "id": "bbbbaa4e-1bdb-4c4d-b619-1ae356eaeb09",
   "metadata": {
    "tags": []
   },
   "outputs": [],
   "source": [
    "def swap_first_last(lst):\n",
    "    if len(lst) < 2:\n",
    "        return lst\n",
    "    else:\n",
    "        lst[0], lst[-1] = lst[-1], lst[0]\n",
    "        return lst"
   ]
  },
  {
   "cell_type": "code",
   "execution_count": 30,
   "id": "d81eef42-1639-46bd-a3bd-62ea43bd1c9f",
   "metadata": {
    "tags": []
   },
   "outputs": [],
   "source": [
    "list1 = [random.randint(1, 100) for _ in range(10)]"
   ]
  },
  {
   "cell_type": "code",
   "execution_count": 31,
   "id": "ffe5cf12-da1b-41b4-a38f-34de817cfc5a",
   "metadata": {
    "tags": []
   },
   "outputs": [],
   "source": [
    "swapped_list = swap_first_last(list1[:])"
   ]
  },
  {
   "cell_type": "code",
   "execution_count": 32,
   "id": "f932363d-371b-4b35-9e04-91bd7f52437a",
   "metadata": {
    "tags": []
   },
   "outputs": [
    {
     "name": "stdout",
     "output_type": "stream",
     "text": [
      "Swapped List: [35, 27, 27, 58, 36, 38, 18, 82, 35, 65]\n"
     ]
    }
   ],
   "source": [
    "print(\"Swapped List:\", swapped_list)"
   ]
  },
  {
   "cell_type": "markdown",
   "id": "78b353d4-2280-48ae-8183-91519f881aa8",
   "metadata": {},
   "source": [
    "### Problem 2 -- Encoding Data"
   ]
  },
  {
   "cell_type": "code",
   "execution_count": 33,
   "id": "75f614e5-aed2-474a-8bbe-23e9313455df",
   "metadata": {
    "tags": []
   },
   "outputs": [],
   "source": [
    "def encode(lst):\n",
    "    return [1 if num % 2 == 0 else -1 for num in lst]"
   ]
  },
  {
   "cell_type": "code",
   "execution_count": 36,
   "id": "41ffd543-6f72-4d23-8d6d-22f92600695a",
   "metadata": {
    "tags": []
   },
   "outputs": [],
   "source": [
    "notencodedlist = [random.randint(1, 100) for _ in range(10)]"
   ]
  },
  {
   "cell_type": "code",
   "execution_count": 37,
   "id": "0b164f64-81cd-4b15-9006-5d22768b485f",
   "metadata": {
    "tags": []
   },
   "outputs": [
    {
     "name": "stdout",
     "output_type": "stream",
     "text": [
      "Original List: [58, 96, 97, 52, 96, 10, 100, 70, 65, 41]\n"
     ]
    }
   ],
   "source": [
    "print(\"Original List:\", notencodedlist)"
   ]
  },
  {
   "cell_type": "code",
   "execution_count": 38,
   "id": "532b02e1-d1d2-466a-ac37-3f4c980e4697",
   "metadata": {
    "tags": []
   },
   "outputs": [],
   "source": [
    "encoded_list = encode(notencodedlist)"
   ]
  },
  {
   "cell_type": "code",
   "execution_count": 40,
   "id": "e828511c-ed89-4a19-b5be-1d0314979fe3",
   "metadata": {
    "tags": []
   },
   "outputs": [
    {
     "name": "stdout",
     "output_type": "stream",
     "text": [
      "Encoded List: [1, 1, -1, 1, 1, 1, 1, 1, -1, -1]\n"
     ]
    }
   ],
   "source": [
    "print(\"Encoded List:\", encoded_list)"
   ]
  },
  {
   "cell_type": "markdown",
   "id": "9f1dc997-fe0d-48c4-91ff-ee5591d8811c",
   "metadata": {},
   "source": [
    "### Problem 3 -- Rotating Tuples"
   ]
  },
  {
   "cell_type": "code",
   "execution_count": 41,
   "id": "8ee8679d-a8c4-4c25-b3ca-69e89c2a9351",
   "metadata": {
    "tags": []
   },
   "outputs": [],
   "source": [
    "def rotate(tup):\n",
    "    a, b, c = tup\n",
    "    return c, a, b"
   ]
  },
  {
   "cell_type": "code",
   "execution_count": 42,
   "id": "7b8fd37d-f34b-4e02-97e2-691783456de3",
   "metadata": {
    "tags": []
   },
   "outputs": [],
   "source": [
    "original_tuple = ('John', 'Kennedy', 41)\n",
    "rotated_tuple = rotate(original_tuple)"
   ]
  },
  {
   "cell_type": "code",
   "execution_count": 43,
   "id": "e3bab72c-6186-4468-bbec-135d22aaaaa5",
   "metadata": {
    "tags": []
   },
   "outputs": [],
   "source": [
    "a, b, c = rotated_tuple"
   ]
  },
  {
   "cell_type": "code",
   "execution_count": 44,
   "id": "8d97e2c7-74b9-4b6a-bf92-c7fe76a9eaac",
   "metadata": {
    "tags": []
   },
   "outputs": [
    {
     "name": "stdout",
     "output_type": "stream",
     "text": [
      "Original Tuple: ('John', 'Kennedy', 41)\n",
      "Rotated Tuple: (41, 'John', 'Kennedy')\n",
      "Unpacked Tuple (a, b, c): 41 John Kennedy\n"
     ]
    }
   ],
   "source": [
    "print(\"Original Tuple:\", original_tuple)\n",
    "print(\"Rotated Tuple:\", rotated_tuple)\n",
    "print(\"Unpacked Tuple (a, b, c):\", a, b, c)"
   ]
  },
  {
   "cell_type": "markdown",
   "id": "10fef300-cd64-47b0-a029-c7186e5d9b0d",
   "metadata": {},
   "source": [
    "### Problem 4 -- Creating a List of Tuples"
   ]
  },
  {
   "cell_type": "code",
   "execution_count": 45,
   "id": "4d283fb6-dc36-4041-9a52-7e2159a45049",
   "metadata": {
    "tags": []
   },
   "outputs": [],
   "source": [
    "def combine_lists(first_names, last_names, numbers):\n",
    "    return list(zip(first_names, last_names, numbers))"
   ]
  },
  {
   "cell_type": "code",
   "execution_count": 46,
   "id": "83a5a21a-1544-48b7-8851-7bfb7ccada41",
   "metadata": {
    "tags": []
   },
   "outputs": [],
   "source": [
    "first_names = [\n",
    "    \"William\", \"Theodore\", \"William\", \"Woodrow\", \"Warren\", \n",
    "    \"Calvin\", \"Herbert\", \"Franklin\", \"Harry\", \"Dwight\", \n",
    "    \"John\", \"Lyndon\"\n",
    "]"
   ]
  },
  {
   "cell_type": "code",
   "execution_count": 47,
   "id": "eceae1a5-b2a3-4a61-87a4-daf73abc1390",
   "metadata": {
    "tags": []
   },
   "outputs": [],
   "source": [
    "last_names = [\n",
    "    \"McKinley\", \"Roosevelt\", \"Taft\", \"Wilson\", \"Harding\", \n",
    "    \"Coolidge\", \"Hoover\", \"Roosevelt\", \"Truman\", \"Eisenhower\", \n",
    "    \"Kennedy\", \"Johnson\"\n",
    "]"
   ]
  },
  {
   "cell_type": "code",
   "execution_count": 48,
   "id": "71bb84f7-7e6a-40e6-ba66-d9c2da471fe3",
   "metadata": {
    "tags": []
   },
   "outputs": [],
   "source": [
    "numbers = list(range(25, 43))"
   ]
  },
  {
   "cell_type": "code",
   "execution_count": 49,
   "id": "3e4031ee-25b9-4c13-923c-2ff4c819a11d",
   "metadata": {
    "tags": []
   },
   "outputs": [],
   "source": [
    "presidents_names = combine_lists(first_names, last_names, numbers)"
   ]
  },
  {
   "cell_type": "code",
   "execution_count": 50,
   "id": "39eb18e8-e68a-4022-92a8-3b89c0e667d2",
   "metadata": {
    "tags": []
   },
   "outputs": [
    {
     "name": "stdout",
     "output_type": "stream",
     "text": [
      "[('William', 'McKinley', 25), ('Theodore', 'Roosevelt', 26), ('William', 'Taft', 27), ('Woodrow', 'Wilson', 28), ('Warren', 'Harding', 29), ('Calvin', 'Coolidge', 30), ('Herbert', 'Hoover', 31), ('Franklin', 'Roosevelt', 32), ('Harry', 'Truman', 33), ('Dwight', 'Eisenhower', 34), ('John', 'Kennedy', 35), ('Lyndon', 'Johnson', 36)]\n"
     ]
    }
   ],
   "source": [
    "print(presidents_names)"
   ]
  },
  {
   "cell_type": "markdown",
   "id": "7be46d54-e246-4138-a9a5-fe1d70a000fe",
   "metadata": {},
   "source": [
    "### Problem 5 -- Finding Perfect Numbers"
   ]
  },
  {
   "cell_type": "code",
   "execution_count": 51,
   "id": "b1fec478-d46a-42c1-b768-e3c08c15dd67",
   "metadata": {
    "tags": []
   },
   "outputs": [],
   "source": [
    "def perfect_number(n):\n",
    "    if n <= 0:\n",
    "        return False\n",
    "    divisor_sum = 0\n",
    "    for i in range(1, n//2 + 1):\n",
    "        if n % i == 0:\n",
    "            divisor_sum += i\n",
    "    return divisor_sum == n"
   ]
  },
  {
   "cell_type": "code",
   "execution_count": 52,
   "id": "be7ba2f0-9dbb-4a85-b724-207051a4a3c7",
   "metadata": {
    "tags": []
   },
   "outputs": [],
   "source": [
    "numbers = list(range(1, 101))"
   ]
  },
  {
   "cell_type": "code",
   "execution_count": 53,
   "id": "e2f0bdc0-7496-4ff2-b46e-71738dd3996b",
   "metadata": {
    "tags": []
   },
   "outputs": [],
   "source": [
    "perfect_numbers = list(filter(perfect_number, numbers))"
   ]
  },
  {
   "cell_type": "code",
   "execution_count": 54,
   "id": "19faec58-a834-4897-b5c1-8d35d8468ae3",
   "metadata": {
    "tags": []
   },
   "outputs": [
    {
     "name": "stdout",
     "output_type": "stream",
     "text": [
      "Perfect Numbers from 1 to 100: [6, 28]\n"
     ]
    }
   ],
   "source": [
    "print(\"Perfect Numbers from 1 to 100:\", perfect_numbers)"
   ]
  }
 ],
 "metadata": {
  "kernelspec": {
   "display_name": "Python 3 (ipykernel)",
   "language": "python",
   "name": "python3"
  },
  "language_info": {
   "codemirror_mode": {
    "name": "ipython",
    "version": 3
   },
   "file_extension": ".py",
   "mimetype": "text/x-python",
   "name": "python",
   "nbconvert_exporter": "python",
   "pygments_lexer": "ipython3",
   "version": "3.11.5"
  }
 },
 "nbformat": 4,
 "nbformat_minor": 5
}
